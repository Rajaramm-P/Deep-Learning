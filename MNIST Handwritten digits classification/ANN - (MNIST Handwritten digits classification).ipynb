{
 "cells": [
  {
   "cell_type": "code",
   "execution_count": 22,
   "metadata": {},
   "outputs": [],
   "source": [
    "import numpy as np\n",
    "from keras.datasets import mnist\n",
    "import matplotlib.pyplot as plt\n",
    "from keras.models import Sequential\n",
    "from keras.layers import Dense, Flatten, Dropout\n",
    "from keras.utils import to_categorical"
   ]
  },
  {
   "cell_type": "code",
   "execution_count": 23,
   "metadata": {},
   "outputs": [],
   "source": [
    "(train_images,train_labels),(test_images,test_labels) = mnist.load_data()"
   ]
  },
  {
   "cell_type": "code",
   "execution_count": 24,
   "metadata": {},
   "outputs": [
    {
     "data": {
      "text/plain": [
       "(60000, 28, 28)"
      ]
     },
     "execution_count": 24,
     "metadata": {},
     "output_type": "execute_result"
    }
   ],
   "source": [
    "train_images.shape"
   ]
  },
  {
   "cell_type": "code",
   "execution_count": 25,
   "metadata": {},
   "outputs": [
    {
     "data": {
      "text/plain": [
       "(60000, 784)"
      ]
     },
     "execution_count": 25,
     "metadata": {},
     "output_type": "execute_result"
    }
   ],
   "source": [
    "#Normalizing the pixels to [-0.5, 0.5]\n",
    "train_images = (train_images/255) - 0.5\n",
    "test_images = (test_images/255) - 0.5\n",
    "\n",
    "#Flattening the images. i.e convert 28*28 into 784 dim vector to feed it to neural network\n",
    "train_images = train_images.reshape((-1, 784))\n",
    "test_images = test_images.reshape((-1, 784))\n",
    "\n",
    "train_images.shape"
   ]
  },
  {
   "cell_type": "code",
   "execution_count": 26,
   "metadata": {},
   "outputs": [],
   "source": [
    "# Building a model with 3 hidden layers. 2 with 64 neurons and 1 with 10 neurons (digits 0 - 9)\n",
    "model = Sequential()\n",
    "\n",
    "model.add(Dense(64, activation='relu', input_dim=784))\n",
    "model.add(Dense(64, activation='relu'))\n",
    "model.add(Dense(10, activation='softmax'))"
   ]
  },
  {
   "cell_type": "code",
   "execution_count": 27,
   "metadata": {},
   "outputs": [],
   "source": [
    "model.compile(optimizer='adam', loss='categorical_crossentropy', metrics=['accuracy'])"
   ]
  },
  {
   "cell_type": "code",
   "execution_count": 28,
   "metadata": {},
   "outputs": [
    {
     "name": "stdout",
     "output_type": "stream",
     "text": [
      "Epoch 1/10\n",
      "60000/60000 [==============================] - 11s 176us/step - loss: 0.3378 - accuracy: 0.8967\n",
      "Epoch 2/10\n",
      "60000/60000 [==============================] - 10s 173us/step - loss: 0.1766 - accuracy: 0.9461\n",
      "Epoch 3/10\n",
      "60000/60000 [==============================] - 10s 173us/step - loss: 0.1376 - accuracy: 0.9575\n",
      "Epoch 4/10\n",
      "60000/60000 [==============================] - 10s 174us/step - loss: 0.1195 - accuracy: 0.9624\n",
      "Epoch 5/10\n",
      "60000/60000 [==============================] - 11s 177us/step - loss: 0.1031 - accuracy: 0.9677\n",
      "Epoch 6/10\n",
      "60000/60000 [==============================] - 10s 172us/step - loss: 0.0949 - accuracy: 0.9706\n",
      "Epoch 7/10\n",
      "60000/60000 [==============================] - 10s 170us/step - loss: 0.0871 - accuracy: 0.9728\n",
      "Epoch 8/10\n",
      "60000/60000 [==============================] - 10s 170us/step - loss: 0.0802 - accuracy: 0.9742\n",
      "Epoch 9/10\n",
      "60000/60000 [==============================] - 10s 172us/step - loss: 0.0737 - accuracy: 0.9763\n",
      "Epoch 10/10\n",
      "60000/60000 [==============================] - 10s 172us/step - loss: 0.0698 - accuracy: 0.9775\n"
     ]
    },
    {
     "data": {
      "text/plain": [
       "<keras.callbacks.callbacks.History at 0x1f55f98cb88>"
      ]
     },
     "execution_count": 28,
     "metadata": {},
     "output_type": "execute_result"
    }
   ],
   "source": [
    "# to_categorical changes the labels to no.of classes eg. 2 it expects [0,0,1,0,0,0,0,0,0,0] \n",
    "# epochs represents the no.of iterations\n",
    "# batch_size represents no.of samples per gradient upgrade for training\n",
    "\n",
    "model.fit(train_images, to_categorical(train_labels), epochs=10, batch_size=16)"
   ]
  },
  {
   "cell_type": "code",
   "execution_count": 29,
   "metadata": {},
   "outputs": [
    {
     "name": "stdout",
     "output_type": "stream",
     "text": [
      "10000/10000 [==============================] - 0s 45us/step\n"
     ]
    },
    {
     "data": {
      "text/plain": [
       "[0.11603072364375694, 0.9674999713897705]"
      ]
     },
     "execution_count": 29,
     "metadata": {},
     "output_type": "execute_result"
    }
   ],
   "source": [
    "# Evaluate the model\n",
    "\n",
    "model.evaluate(test_images, to_categorical(test_labels))"
   ]
  },
  {
   "cell_type": "code",
   "execution_count": 30,
   "metadata": {},
   "outputs": [],
   "source": [
    "# Save neural network structure\n",
    "# model_structure = model.to_json()\n",
    "# f = Path(\"model_structure.json\")\n",
    "# f.write_text(model_structure)\n",
    "\n",
    "# Save neural network's trained weights\n",
    "# model.save_weights(\"model_weights.h5\")"
   ]
  },
  {
   "cell_type": "code",
   "execution_count": 31,
   "metadata": {},
   "outputs": [
    {
     "data": {
      "text/plain": [
       "array([[9.63695183e-12, 1.21519247e-06, 3.87382488e-06, 5.65588234e-05,\n",
       "        8.60424731e-10, 3.87498105e-08, 3.19893697e-18, 9.99844790e-01,\n",
       "        5.14938563e-07, 9.30122405e-05],\n",
       "       [4.83501260e-12, 9.26130906e-06, 9.99990702e-01, 1.48268429e-08,\n",
       "        2.38312002e-22, 3.01521401e-14, 4.40906235e-11, 3.89493169e-12,\n",
       "        6.00284711e-09, 4.05846595e-22],\n",
       "       [1.50405521e-10, 9.99997377e-01, 1.31885622e-08, 9.90379156e-09,\n",
       "        5.64749541e-07, 5.91221749e-07, 1.04254860e-09, 1.14104739e-06,\n",
       "        1.80806481e-07, 3.31427463e-09],\n",
       "       [9.99996185e-01, 1.20795182e-12, 1.73506791e-07, 1.23642332e-08,\n",
       "        4.39261988e-10, 1.29732340e-08, 3.34833271e-06, 1.05137827e-08,\n",
       "        6.79029000e-10, 3.83891688e-07],\n",
       "       [2.80064943e-10, 3.41399842e-09, 1.07929516e-07, 3.34813990e-08,\n",
       "        9.99659300e-01, 8.42005011e-06, 1.04455244e-09, 3.00582201e-06,\n",
       "        1.36775270e-06, 3.27870366e-04]], dtype=float32)"
      ]
     },
     "execution_count": 31,
     "metadata": {},
     "output_type": "execute_result"
    }
   ],
   "source": [
    "# predicting on the first 5 test_images\n",
    "pred = model.predict(test_images[:5])\n",
    "pred"
   ]
  },
  {
   "cell_type": "code",
   "execution_count": 32,
   "metadata": {},
   "outputs": [
    {
     "name": "stdout",
     "output_type": "stream",
     "text": [
      "[7 2 1 0 4]\n",
      "[7 2 1 0 4]\n"
     ]
    }
   ],
   "source": [
    "# print our model prediction\n",
    "print(np.argmax(pred, axis=1))\n",
    "print(test_labels[:5])"
   ]
  },
  {
   "cell_type": "code",
   "execution_count": null,
   "metadata": {},
   "outputs": [],
   "source": []
  }
 ],
 "metadata": {
  "kernelspec": {
   "display_name": "Python 3",
   "language": "python",
   "name": "python3"
  },
  "language_info": {
   "codemirror_mode": {
    "name": "ipython",
    "version": 3
   },
   "file_extension": ".py",
   "mimetype": "text/x-python",
   "name": "python",
   "nbconvert_exporter": "python",
   "pygments_lexer": "ipython3",
   "version": "3.7.7"
  }
 },
 "nbformat": 4,
 "nbformat_minor": 4
}
