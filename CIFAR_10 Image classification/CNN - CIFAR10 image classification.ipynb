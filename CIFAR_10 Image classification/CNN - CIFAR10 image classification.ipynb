{
 "cells": [
  {
   "cell_type": "code",
   "execution_count": 28,
   "metadata": {},
   "outputs": [],
   "source": [
    "import numpy as np\n",
    "import pandas as pd\n",
    "import matplotlib.pyplot as plt\n",
    "\n",
    "from keras.datasets import cifar10\n",
    "from keras.models import Sequential\n",
    "from keras.utils import to_categorical\n",
    "from keras.layers import Dense, Dropout, Flatten, Conv2D, MaxPooling2D"
   ]
  },
  {
   "cell_type": "code",
   "execution_count": 29,
   "metadata": {},
   "outputs": [],
   "source": [
    "(train_images, train_labels), (test_images, test_labels) = cifar10.load_data()"
   ]
  },
  {
   "cell_type": "code",
   "execution_count": 30,
   "metadata": {},
   "outputs": [
    {
     "data": {
      "text/plain": [
       "(50000, 32, 32, 3)"
      ]
     },
     "execution_count": 30,
     "metadata": {},
     "output_type": "execute_result"
    }
   ],
   "source": [
    "train_images.shape"
   ]
  },
  {
   "cell_type": "code",
   "execution_count": 31,
   "metadata": {},
   "outputs": [
    {
     "data": {
      "text/plain": [
       "(50000, 32, 32, 3)"
      ]
     },
     "execution_count": 31,
     "metadata": {},
     "output_type": "execute_result"
    }
   ],
   "source": [
    "#Normalizing the values from -0.5 to 0.5\n",
    "train_images = (train_images/255) - 0.5\n",
    "test_images = (test_images/255) - 0.5\n",
    "\n",
    "#Reshaping the the input into 1d vector to feed the ANN model\n",
    "# train_images = train_images.reshape((-1, 3072))\n",
    "# test_images = test_images.reshape((-1, 3072))\n",
    "train_images.shape"
   ]
  },
  {
   "cell_type": "code",
   "execution_count": 32,
   "metadata": {},
   "outputs": [],
   "source": [
    "#Creating an ANN model\n",
    "model = Sequential()\n",
    "\n",
    "model.add(Conv2D(64, 3, padding='same', activation='relu', input_shape=(32,32,3)))\n",
    "model.add(Conv2D(64, 3, activation='relu'))\n",
    "model.add(MaxPooling2D(pool_size=(2,2)))\n",
    "model.add(Dropout(0.25))\n",
    "\n",
    "model.add(Conv2D(32, 3, padding='same', activation='relu'))\n",
    "model.add(Conv2D(32, 3, activation='relu'))\n",
    "model.add(MaxPooling2D(pool_size=(2,2)))\n",
    "model.add(Dropout(0.25))\n",
    "\n",
    "model.add(Flatten())\n",
    "model.add(Dense(512, activation='relu'))\n",
    "model.add(Dropout(0.25))\n",
    "model.add(Dense(10, activation='softmax'))"
   ]
  },
  {
   "cell_type": "code",
   "execution_count": 33,
   "metadata": {},
   "outputs": [],
   "source": [
    "model.compile(optimizer='adam', loss='categorical_crossentropy', metrics=['accuracy'])"
   ]
  },
  {
   "cell_type": "code",
   "execution_count": 34,
   "metadata": {},
   "outputs": [
    {
     "name": "stdout",
     "output_type": "stream",
     "text": [
      "Epoch 1/5\n",
      "50000/50000 [==============================] - 249s 5ms/step - loss: 1.4095 - accuracy: 0.4863\n",
      "Epoch 2/5\n",
      "50000/50000 [==============================] - 249s 5ms/step - loss: 1.0234 - accuracy: 0.6363\n",
      "Epoch 3/5\n",
      "50000/50000 [==============================] - 258s 5ms/step - loss: 0.8667 - accuracy: 0.6964\n",
      "Epoch 4/5\n",
      "50000/50000 [==============================] - 263s 5ms/step - loss: 0.7689 - accuracy: 0.7300\n",
      "Epoch 5/5\n",
      "50000/50000 [==============================] - 260s 5ms/step - loss: 0.7032 - accuracy: 0.7542\n"
     ]
    },
    {
     "data": {
      "text/plain": [
       "<keras.callbacks.callbacks.History at 0x1f07bff0cc8>"
      ]
     },
     "execution_count": 34,
     "metadata": {},
     "output_type": "execute_result"
    }
   ],
   "source": [
    "model.fit(train_images, to_categorical(train_labels), batch_size=32, epochs=5)"
   ]
  },
  {
   "cell_type": "code",
   "execution_count": 35,
   "metadata": {},
   "outputs": [
    {
     "name": "stdout",
     "output_type": "stream",
     "text": [
      "10000/10000 [==============================] - 12s 1ms/step\n"
     ]
    },
    {
     "data": {
      "text/plain": [
       "[0.7037575604438782, 0.7556999921798706]"
      ]
     },
     "execution_count": 35,
     "metadata": {},
     "output_type": "execute_result"
    }
   ],
   "source": [
    "model.evaluate(test_images, to_categorical(test_labels))"
   ]
  },
  {
   "cell_type": "code",
   "execution_count": 36,
   "metadata": {},
   "outputs": [
    {
     "data": {
      "text/plain": [
       "array([[4.54087480e-04, 2.75177357e-04, 3.86929070e-03, 6.49791300e-01,\n",
       "        8.62292771e-04, 2.46037602e-01, 9.64834020e-02, 1.01940683e-03,\n",
       "        1.12377282e-03, 8.37714615e-05],\n",
       "       [6.93973433e-03, 1.96889907e-01, 9.00694133e-08, 1.21194887e-06,\n",
       "        4.66065853e-09, 9.77344539e-10, 1.84605646e-08, 1.04472129e-08,\n",
       "        7.95780361e-01, 3.88665416e-04],\n",
       "       [2.16798961e-01, 3.26107107e-02, 1.67577958e-03, 3.55984108e-03,\n",
       "        1.74253073e-04, 3.59053884e-05, 1.35450609e-04, 1.17688265e-04,\n",
       "        6.77874446e-01, 6.70169592e-02],\n",
       "       [8.17942977e-01, 4.45813825e-03, 3.94708961e-02, 2.54621524e-02,\n",
       "        1.27186463e-03, 1.33997749e-03, 1.77092245e-03, 2.97575491e-04,\n",
       "        9.26724821e-02, 1.53131355e-02],\n",
       "       [2.48985774e-08, 1.62697097e-06, 5.89259155e-03, 1.28253538e-03,\n",
       "        9.00968760e-02, 2.54980023e-06, 9.02723730e-01, 1.50997614e-08,\n",
       "        1.05522219e-07, 2.47664769e-08]], dtype=float32)"
      ]
     },
     "execution_count": 36,
     "metadata": {},
     "output_type": "execute_result"
    }
   ],
   "source": [
    "# predicting on the first 5 test_images\n",
    "pred = model.predict(test_images[:5])\n",
    "pred"
   ]
  },
  {
   "cell_type": "code",
   "execution_count": 40,
   "metadata": {},
   "outputs": [
    {
     "name": "stdout",
     "output_type": "stream",
     "text": [
      "[3 8 8 0 6]\n",
      "[[3]\n",
      " [8]\n",
      " [8]\n",
      " [0]\n",
      " [6]]\n"
     ]
    }
   ],
   "source": [
    "# print our model prediction\n",
    "print(np.argmax(pred, axis=1))\n",
    "print(test_labels[:5])"
   ]
  },
  {
   "cell_type": "code",
   "execution_count": 41,
   "metadata": {},
   "outputs": [],
   "source": [
    "class_labels = [\n",
    "    \"Plane\",\n",
    "    \"Car\",\n",
    "    \"Bird\",\n",
    "    \"Cat\",\n",
    "    \"Deer\",\n",
    "    \"Dog\",\n",
    "    \"Frog\",\n",
    "    \"Horse\",\n",
    "    \"Boat\",\n",
    "    \"Truck\"\n",
    "]"
   ]
  },
  {
   "cell_type": "code",
   "execution_count": 43,
   "metadata": {},
   "outputs": [
    {
     "name": "stdout",
     "output_type": "stream",
     "text": [
      "This is image is a Boat - Likelihood: 0.795780\n"
     ]
    }
   ],
   "source": [
    "most_likely_class_index = int(np.argmax(pred[1]))\n",
    "class_likelihood = pred[1][most_likely_class_index]\n",
    "\n",
    "class_label = class_labels[most_likely_class_index]\n",
    "\n",
    "print(\"This is image is a {} - Likelihood: {:2f}\".format(class_label, class_likelihood))"
   ]
  },
  {
   "cell_type": "code",
   "execution_count": null,
   "metadata": {},
   "outputs": [],
   "source": []
  }
 ],
 "metadata": {
  "kernelspec": {
   "display_name": "Python 3",
   "language": "python",
   "name": "python3"
  },
  "language_info": {
   "codemirror_mode": {
    "name": "ipython",
    "version": 3
   },
   "file_extension": ".py",
   "mimetype": "text/x-python",
   "name": "python",
   "nbconvert_exporter": "python",
   "pygments_lexer": "ipython3",
   "version": "3.7.7"
  }
 },
 "nbformat": 4,
 "nbformat_minor": 4
}
